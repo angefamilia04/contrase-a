{
  "nbformat": 4,
  "nbformat_minor": 0,
  "metadata": {
    "colab": {
      "provenance": [],
      "authorship_tag": "ABX9TyN0+Ms6JwGrvTEi5Wka0+Jq",
      "include_colab_link": true
    },
    "kernelspec": {
      "name": "python3",
      "display_name": "Python 3"
    },
    "language_info": {
      "name": "python"
    }
  },
  "cells": [
    {
      "cell_type": "markdown",
      "metadata": {
        "id": "view-in-github",
        "colab_type": "text"
      },
      "source": [
        "<a href=\"https://colab.research.google.com/github/angefamilia04/contrase-a/blob/main/Untitled0.ipynb\" target=\"_parent\"><img src=\"https://colab.research.google.com/assets/colab-badge.svg\" alt=\"Open In Colab\"/></a>"
      ]
    },
    {
      "cell_type": "code",
      "execution_count": 6,
      "metadata": {
        "id": "WeakO5HPv3Tk",
        "colab": {
          "base_uri": "https://localhost:8080/"
        },
        "outputId": "a26010f7-a011-44a3-a4ce-5ce5191f4953"
      },
      "outputs": [
        {
          "output_type": "stream",
          "name": "stdout",
          "text": [
            "Qc[z.77P\n"
          ]
        }
      ],
      "source": [
        "#generdor de contraseñas\n",
        "import re\n",
        "import secrets\n",
        "import string\n",
        "\n",
        "\n",
        "\n",
        "def generar_contraseña(longitud, nums, caracteres_especiales, mayusculas, minusculas):\n",
        "    # Define los posibles caracteres para la contraseña\n",
        "    letras = string.ascii_letters\n",
        "    digitos = string.digits\n",
        "    simbolos = string.punctuation\n",
        "\n",
        "    # Combina todos los caracteres\n",
        "    todos_los_caracteres = letras + digitos + simbolos\n",
        "\n",
        "    while True:\n",
        "        contraseña = ''\n",
        "        # Genera la contraseña\n",
        "        for _ in range(longitud):\n",
        "            contraseña += secrets.choice(todos_los_caracteres)\n",
        "\n",
        "        restricciones = [\n",
        "            (nums, r'\\d'),\n",
        "            (minusculas, r'[a-z]'),\n",
        "            (mayusculas, r'[A-Z]'),\n",
        "            (caracteres_especiales, fr'[{simbolos}]')\n",
        "        ]\n",
        "\n",
        "        # Verifica las restricciones\n",
        "        count = 0\n",
        "        for restriccion, patron in restricciones:\n",
        "            if restriccion <= len(re.findall(patron, contraseña)):\n",
        "                count += 1\n",
        "\n",
        "        if count == 4:\n",
        "            break\n",
        "\n",
        "    return contraseña\n",
        "\n",
        "nueva_contraseña = generar_contraseña(8, 2, 2, 2, 2)\n",
        "print(nueva_contraseña)"
      ]
    },
    {
      "cell_type": "code",
      "source": [],
      "metadata": {
        "id": "pL9p8Owkv6iM"
      },
      "execution_count": null,
      "outputs": []
    },
    {
      "cell_type": "code",
      "source": [
        "def main():\n",
        "  pass"
      ],
      "metadata": {
        "id": "J5JRjKzzrdqW"
      },
      "execution_count": 3,
      "outputs": []
    },
    {
      "cell_type": "code",
      "source": [
        "def main():\n",
        " print('Bienvenidos al generador automatico de contraseña en Google Colab y Python\\n')\n",
        " longitud = input('Digite la longitud de su contraseña:  ' )\n",
        " numeros = input('Digite la cantidad de numeros que desea en su contraseña:  ')\n",
        " caracteres_especiales = input('Digite la cantidad de caracteres especiales que desea en su contraseña:  ')\n",
        " mayusculas = input('Digite la cantidad de mayusculas que desea en su contraseña:  ')\n",
        " minusculas = input('Digite la cantidaad de minusculas que desea en su contraseña: ')\n",
        "\n",
        " if longitud.isdigit() and numeros.isdigit() and caracteres_especiales.isdigit() and mayusculas.isdigit() and minusculas.isdigit():\n",
        "   long = int(longitud)\n",
        "   nums = int(numeros)\n",
        "   chars = int(caracteres_especiales)\n",
        "   mayus = int(mayusculas)\n",
        "   minus = int(minusculas)\n",
        "   password = generar_contraseña(long, nums, chars, mayus, minus)\n",
        "   print(f'La nueva contraseña generada es: [password] ' )\n",
        " else:\n",
        "  print('favor de escribir numeros enteros. ')\n",
        "  main()"
      ],
      "metadata": {
        "id": "dM01seAuryj2"
      },
      "execution_count": 8,
      "outputs": []
    },
    {
      "cell_type": "code",
      "source": [
        "def main():\n",
        " print('Bienvenidos al generador automatico de contraseña en Google Colab y Python\\n')\n",
        " longitud = input('Digite la longitud de su contraseña:  ' )\n",
        " numeros = input('Digite la cantidad de numeros que desea en su contraseña:  ')\n",
        " caracteres_especiales = input('Digite la cantidad de caracteres especiales que desea en su contraseña:  ')\n",
        " mayusculas = input('Digite la cantidad de mayusculas que desea en su contraseña:  ')\n",
        " minusculas = input('Digite la cantidaad de minusculas que desea en su contraseña: ')\n",
        "\n",
        " if longitud.isdigit() and numeros.isdigit() and caracteres_especiales.isdigit() and mayusculas.isdigit() and minusculas.isdigit():\n",
        "   long = int(longitud)\n",
        "   nums = int(numeros)\n",
        "   chars = int(caracteres_especiales)\n",
        "   mayus = int(mayusculas)\n",
        "   minus = int(minusculas)\n",
        "   password = generar_contraseña(long, nums, chars, mayus, minus)\n",
        "   print(f'La nueva contraseña generada es: [password] ' )\n",
        " else:\n",
        "  print('favor de escribir numeros enteros. ')\n"
      ],
      "metadata": {
        "id": "028w1wx0s0LU"
      },
      "execution_count": null,
      "outputs": []
    },
    {
      "cell_type": "code",
      "source": [
        "def main():\n",
        " print('Bienvenidos al generador automatico de contraseña en Google Colab y Python\\n')\n",
        " longitud = input('Digite la longitud de su contraseña:  ' )\n",
        " numeros = input('Digite la cantidad de numeros que desea en su contraseña:  ')\n",
        " caracteres_especiales = input('Digite la cantidad de caracteres especiales que desea en su contraseña:  ')\n",
        " mayusculas = input('Digite la cantidad de mayusculas que desea en su contraseña:  ')\n",
        " minusculas = input('Digite la cantidaad de minusculas que desea en su contraseña: ')\n",
        "\n",
        " if longitud.isdigit() and numeros.isdigit() and caracteres_especiales.isdigit() and mayusculas.isdigit() and minusculas.isdigit():\n",
        "   long = int(longitud)\n",
        "   nums = int(numeros)\n",
        "   chars = int(caracteres_especiales)\n",
        "   mayus = int(mayusculas)\n",
        "   minus = int(minusculas)\n",
        "   password = generar_contraseña(long, nums, chars, mayus, minus)\n",
        "   print(f'La nueva contraseña generada es: [password] ' )\n",
        " else:\n",
        "  print('favor de escribir numeros enteros. ')\n",
        ""
      ],
      "metadata": {
        "id": "sRRA1nqJs3Ea"
      },
      "execution_count": 9,
      "outputs": []
    },
    {
      "cell_type": "code",
      "source": [
        "main()"
      ],
      "metadata": {
        "colab": {
          "base_uri": "https://localhost:8080/"
        },
        "id": "n2fvzKFws-DR",
        "outputId": "d648f501-8720-4b17-a555-5879a6e4ce41"
      },
      "execution_count": 10,
      "outputs": [
        {
          "output_type": "stream",
          "name": "stdout",
          "text": [
            "Bienvenidos al generador automatico de contraseña en Google Colab y Python\n",
            "\n",
            "Digite la longitud de su contraseña:  10\n",
            "Digite la cantidad de numeros que desea en su contraseña:  3\n",
            "Digite la cantidad de caracteres especiales que desea en su contraseña:  2\n",
            "Digite la cantidad de mayusculas que desea en su contraseña:  3\n",
            "Digite la cantidaad de minusculas que desea en su contraseña: 2\n",
            "La nueva contraseña generada es: [password] \n"
          ]
        }
      ]
    }
  ]
}